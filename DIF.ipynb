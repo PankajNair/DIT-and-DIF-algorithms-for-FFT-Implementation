{
 "cells": [
  {
   "cell_type": "code",
   "execution_count": 3,
   "metadata": {},
   "outputs": [],
   "source": [
    "import numpy as np \n",
    "import matplotlib.pyplot as plt "
   ]
  },
  {
   "attachments": {},
   "cell_type": "markdown",
   "metadata": {},
   "source": [
    "a."
   ]
  },
  {
   "cell_type": "code",
   "execution_count": 1,
   "metadata": {},
   "outputs": [],
   "source": [
    "def fft_dif(input,N):\n",
    "    num = int(np.log2(N))\n",
    "\n",
    "    a1 = []\n",
    "    a2 = []\n",
    "    a3 = []\n",
    "    a4 = []\n",
    "\n",
    "    def bitreversal(num, size):\n",
    "        binary = bin(num)\n",
    "        reverse = binary[-1:1:-1]\n",
    "        reverse += (size - len(reverse))*'0'\n",
    "        return int(reverse,2)\n",
    "\n",
    "    a1 = input.copy()\n",
    "\n",
    "    for i in range(num-1,-1,-1):\n",
    "        for j in range(0,int(N/(2**(i+1)))):\n",
    "            m=0\n",
    "            for k in range(2*j*(2**i),2*j*(2**i)+(2**i)):\n",
    "                W = np.exp(-1j*2*m*np.pi/(2**(i+1)))\n",
    "                a2.insert(k, a1[k] + a1[k+(2**i)])\n",
    "                a2.insert((k+2**i), (a1[k] - a1[k+(2**i)])*W)\n",
    "                m += 1\n",
    "        a1=a2.copy()\n",
    "        a2.clear()\n",
    "\n",
    "    for i in range(2**num):\n",
    "        val = bitreversal(i, num)\n",
    "        a4.insert(i, a1[val])\n",
    "\n",
    "    for i in range(len(a1)):\n",
    "        a3.insert(i, round(a4[i].real,3) + 1j*round(a4[i].imag, 3))\n",
    "    return np.asarray(a3)"
   ]
  },
  {
   "cell_type": "code",
   "execution_count": 4,
   "metadata": {},
   "outputs": [
    {
     "data": {
      "text/plain": [
       "array([4.+0.j   , 1.-2.414j, 0.+0.j   , 1.-0.414j, 0.+0.j   , 1.+0.414j,\n",
       "       0.+0.j   , 1.+2.414j])"
      ]
     },
     "execution_count": 4,
     "metadata": {},
     "output_type": "execute_result"
    }
   ],
   "source": [
    "x = np.array([1,1,1,1,0,0,0,0])\n",
    "fft_dif(x,8)"
   ]
  },
  {
   "attachments": {},
   "cell_type": "markdown",
   "metadata": {},
   "source": [
    "b."
   ]
  },
  {
   "cell_type": "code",
   "execution_count": 5,
   "metadata": {},
   "outputs": [
    {
     "data": {
      "text/plain": [
       "<StemContainer object of 3 artists>"
      ]
     },
     "execution_count": 5,
     "metadata": {},
     "output_type": "execute_result"
    },
    {
     "data": {
      "image/png": "[encoded data removed]",
      "text/plain": [
       "<Figure size 432x288 with 1 Axes>"
      ]
     },
     "metadata": {
      "needs_background": "light"
     },
     "output_type": "display_data"
    }
   ],
   "source": [
    "fs = 1000\n",
    "t = np.arange(0,1.024,1/fs)\n",
    "x = 4*np.sin(2*np.pi*10*t)+np.sin(2*np.pi*20*t)+2*np.sin(2*np.pi*50*t)\n",
    "plt.stem(abs(fft_dif(x,1024)))"
   ]
  },
  {
   "cell_type": "code",
   "execution_count": null,
   "metadata": {},
   "outputs": [],
   "source": []
  }
 ],
 "metadata": {
  "kernelspec": {
   "display_name": "Python 3.9.0 64-bit",
   "language": "python",
   "name": "python3"
  },
  "language_info": {
   "codemirror_mode": {
    "name": "ipython",
    "version": 3
   },
   "file_extension": ".py",
   "mimetype": "text/x-python",
   "name": "python",
   "nbconvert_exporter": "python",
   "pygments_lexer": "ipython3",
   "version": "3.9.0"
  },
  "orig_nbformat": 4,
  "vscode": {
   "interpreter": {
    "hash": "45c3010de3fc06dad6df20ada877e66fe9ccf39c0fd832e545c18abfe5311be4"
   }
  }
 },
 "nbformat": 4,
 "nbformat_minor": 2
}
